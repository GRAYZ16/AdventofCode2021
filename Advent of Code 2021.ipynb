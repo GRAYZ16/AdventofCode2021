{
 "cells": [
  {
   "cell_type": "markdown",
   "id": "1f512e46",
   "metadata": {},
   "source": [
    "# Advent of Code 2021"
   ]
  },
  {
   "cell_type": "code",
   "execution_count": 6,
   "id": "92a2f253",
   "metadata": {},
   "outputs": [],
   "source": [
    "import pandas as pd\n",
    "import numpy as np\n",
    "\n",
    "\n",
    "def inputFile(day, puzzle):\n",
    "    return \"Input/input-\" + str(day) + '-' + str(puzzle) + \".txt\""
   ]
  },
  {
   "cell_type": "markdown",
   "id": "af1f4758",
   "metadata": {},
   "source": [
    "## Day 1"
   ]
  },
  {
   "cell_type": "markdown",
   "id": "d8c8ac60",
   "metadata": {},
   "source": [
    "### Part 1 "
   ]
  },
  {
   "cell_type": "code",
   "execution_count": 15,
   "id": "c6bcaf56",
   "metadata": {},
   "outputs": [],
   "source": [
    "input_data = pd.read_csv(inputFile(1,1), names=[\"Depths\"], squeeze=True)"
   ]
  },
  {
   "cell_type": "code",
   "execution_count": 19,
   "id": "58af4fae",
   "metadata": {},
   "outputs": [
    {
     "data": {
      "text/plain": [
       "0    156\n",
       "1    153\n",
       "2    163\n",
       "3    168\n",
       "4    166\n",
       "Name: Depths, dtype: int64"
      ]
     },
     "execution_count": 19,
     "metadata": {},
     "output_type": "execute_result"
    }
   ],
   "source": [
    "input_data.head()"
   ]
  },
  {
   "cell_type": "code",
   "execution_count": 26,
   "id": "60fc0e18",
   "metadata": {},
   "outputs": [],
   "source": [
    "increases = 0\n",
    "\n",
    "for i in range(input_data.size - 1):\n",
    "    if input_data[i] < input_data[i+1]:\n",
    "        increases += 1"
   ]
  },
  {
   "cell_type": "code",
   "execution_count": 27,
   "id": "083563cd",
   "metadata": {},
   "outputs": [
    {
     "data": {
      "text/plain": [
       "1233"
      ]
     },
     "execution_count": 27,
     "metadata": {},
     "output_type": "execute_result"
    }
   ],
   "source": [
    "increases"
   ]
  },
  {
   "cell_type": "markdown",
   "id": "b95c33e7",
   "metadata": {},
   "source": [
    "### Part 2"
   ]
  },
  {
   "cell_type": "code",
   "execution_count": 32,
   "id": "2a170f07",
   "metadata": {},
   "outputs": [],
   "source": [
    "window_increases = 0\n",
    "\n",
    "windows = input_data.rolling(window=3).sum()\n",
    "\n",
    "for i in range(windows.size - 1):\n",
    "    if windows[i] < windows[i+1]:\n",
    "        window_increases += 1"
   ]
  },
  {
   "cell_type": "code",
   "execution_count": 33,
   "id": "a9813900",
   "metadata": {},
   "outputs": [
    {
     "data": {
      "text/plain": [
       "1275"
      ]
     },
     "execution_count": 33,
     "metadata": {},
     "output_type": "execute_result"
    }
   ],
   "source": [
    "window_increases"
   ]
  },
  {
   "cell_type": "code",
   "execution_count": null,
   "id": "aa024dc2",
   "metadata": {},
   "outputs": [],
   "source": []
  }
 ],
 "metadata": {
  "kernelspec": {
   "display_name": "Python 3",
   "language": "python",
   "name": "python3"
  },
  "language_info": {
   "codemirror_mode": {
    "name": "ipython",
    "version": 3
   },
   "file_extension": ".py",
   "mimetype": "text/x-python",
   "name": "python",
   "nbconvert_exporter": "python",
   "pygments_lexer": "ipython3",
   "version": "3.8.8"
  }
 },
 "nbformat": 4,
 "nbformat_minor": 5
}
