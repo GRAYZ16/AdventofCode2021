{
 "cells": [
  {
   "cell_type": "markdown",
   "id": "1f512e46",
   "metadata": {},
   "source": [
    "# Advent of Code 2021"
   ]
  },
  {
   "cell_type": "code",
   "execution_count": 1,
   "id": "92a2f253",
   "metadata": {},
   "outputs": [],
   "source": [
    "import pandas as pd\n",
    "import numpy as np\n",
    "\n",
    "\n",
    "def inputFile(day, puzzle):\n",
    "    return \"Input/input-\" + str(day) + '-' + str(puzzle) + \".txt\""
   ]
  },
  {
   "cell_type": "markdown",
   "id": "af1f4758",
   "metadata": {},
   "source": [
    "## Day 1"
   ]
  },
  {
   "cell_type": "markdown",
   "id": "d8c8ac60",
   "metadata": {},
   "source": [
    "### Part 1 "
   ]
  },
  {
   "cell_type": "code",
   "execution_count": 2,
   "id": "c6bcaf56",
   "metadata": {},
   "outputs": [],
   "source": [
    "input_data = pd.read_csv(inputFile(1,1), names=[\"Depths\"], squeeze=True)"
   ]
  },
  {
   "cell_type": "code",
   "execution_count": 3,
   "id": "58af4fae",
   "metadata": {},
   "outputs": [
    {
     "data": {
      "text/plain": [
       "0    156\n",
       "1    153\n",
       "2    163\n",
       "3    168\n",
       "4    166\n",
       "Name: Depths, dtype: int64"
      ]
     },
     "execution_count": 3,
     "metadata": {},
     "output_type": "execute_result"
    }
   ],
   "source": [
    "input_data.head()"
   ]
  },
  {
   "cell_type": "code",
   "execution_count": 4,
   "id": "60fc0e18",
   "metadata": {},
   "outputs": [],
   "source": [
    "increases = 0\n",
    "\n",
    "for i in range(input_data.size - 1):\n",
    "    if input_data[i] < input_data[i+1]:\n",
    "        increases += 1"
   ]
  },
  {
   "cell_type": "code",
   "execution_count": 5,
   "id": "083563cd",
   "metadata": {},
   "outputs": [
    {
     "data": {
      "text/plain": [
       "1233"
      ]
     },
     "execution_count": 5,
     "metadata": {},
     "output_type": "execute_result"
    }
   ],
   "source": [
    "increases"
   ]
  },
  {
   "cell_type": "markdown",
   "id": "b95c33e7",
   "metadata": {},
   "source": [
    "### Part 2"
   ]
  },
  {
   "cell_type": "code",
   "execution_count": 6,
   "id": "2a170f07",
   "metadata": {},
   "outputs": [],
   "source": [
    "window_increases = 0\n",
    "\n",
    "windows = input_data.rolling(window=3).sum()\n",
    "\n",
    "for i in range(windows.size - 1):\n",
    "    if windows[i] < windows[i+1]:\n",
    "        window_increases += 1"
   ]
  },
  {
   "cell_type": "code",
   "execution_count": 7,
   "id": "a9813900",
   "metadata": {},
   "outputs": [
    {
     "data": {
      "text/plain": [
       "1275"
      ]
     },
     "execution_count": 7,
     "metadata": {},
     "output_type": "execute_result"
    }
   ],
   "source": [
    "window_increases"
   ]
  },
  {
   "cell_type": "markdown",
   "id": "d95e615f",
   "metadata": {},
   "source": [
    "## Day 2"
   ]
  },
  {
   "cell_type": "markdown",
   "id": "0163286f",
   "metadata": {},
   "source": [
    "### Part 1"
   ]
  },
  {
   "cell_type": "code",
   "execution_count": 8,
   "id": "646ca516",
   "metadata": {},
   "outputs": [
    {
     "data": {
      "text/plain": [
       "0    forward 8\n",
       "1       down 9\n",
       "2         up 4\n",
       "3       down 8\n",
       "4       down 3\n",
       "Name: Commands, dtype: object"
      ]
     },
     "execution_count": 8,
     "metadata": {},
     "output_type": "execute_result"
    }
   ],
   "source": [
    "input_data = pd.read_csv(inputFile(2,1), names=[\"Commands\"], squeeze=True)\n",
    "\n",
    "input_data.head()"
   ]
  },
  {
   "cell_type": "code",
   "execution_count": 9,
   "id": "710f4867",
   "metadata": {},
   "outputs": [
    {
     "name": "stdout",
     "output_type": "stream",
     "text": [
      "Position: 1878\n",
      "Depth: 777\n"
     ]
    }
   ],
   "source": [
    "position = 0\n",
    "depth = 0\n",
    "\n",
    "for instruction in input_data:\n",
    "    command, distance = instruction.split(\" \");\n",
    "    \n",
    "    if command == \"forward\":\n",
    "        position += int(distance)\n",
    "    elif command == \"down\":\n",
    "        depth += int(distance)\n",
    "    elif command == \"up\":\n",
    "        depth -= int(distance)\n",
    "\n",
    "print(\"Position: {}\".format(position))\n",
    "print(\"Depth: {}\".format(depth))"
   ]
  },
  {
   "cell_type": "code",
   "execution_count": 10,
   "id": "d5a3427a",
   "metadata": {},
   "outputs": [
    {
     "name": "stdout",
     "output_type": "stream",
     "text": [
      "Answer: 1459206\n"
     ]
    }
   ],
   "source": [
    "print(\"Answer: {}\".format(position*depth))"
   ]
  },
  {
   "cell_type": "markdown",
   "id": "593b1f42",
   "metadata": {},
   "source": [
    "### Part 2\n"
   ]
  },
  {
   "cell_type": "code",
   "execution_count": 11,
   "id": "6a1ed3ab",
   "metadata": {},
   "outputs": [
    {
     "name": "stdout",
     "output_type": "stream",
     "text": [
      "Position: 1878\n",
      "Depth: 703160\n"
     ]
    }
   ],
   "source": [
    "position = 0\n",
    "depth = 0\n",
    "aim = 0\n",
    "\n",
    "for instruction in input_data:\n",
    "    command, distance = instruction.split(\" \");\n",
    "    \n",
    "    if command == \"forward\":\n",
    "        position += int(distance)\n",
    "        depth += int(aim) * int(distance)\n",
    "    elif command == \"down\":\n",
    "        aim += int(distance)\n",
    "    elif command == \"up\":\n",
    "        aim -= int(distance)\n",
    "        \n",
    "print(\"Position: {}\".format(position))\n",
    "print(\"Depth: {}\".format(depth))  "
   ]
  },
  {
   "cell_type": "code",
   "execution_count": 12,
   "id": "363c4e9a",
   "metadata": {},
   "outputs": [
    {
     "name": "stdout",
     "output_type": "stream",
     "text": [
      "Answer: 1320534480\n"
     ]
    }
   ],
   "source": [
    "print(\"Answer: {}\".format(position*depth))"
   ]
  },
  {
   "cell_type": "markdown",
   "id": "da78bf5e",
   "metadata": {},
   "source": [
    "## Day 3"
   ]
  },
  {
   "cell_type": "markdown",
   "id": "c15d0c13",
   "metadata": {},
   "source": [
    "### Part 1"
   ]
  },
  {
   "cell_type": "code",
   "execution_count": 13,
   "id": "9c63e3b8",
   "metadata": {},
   "outputs": [
    {
     "data": {
      "text/plain": [
       "0    111111010011\n",
       "1    110011001100\n",
       "2    010011111000\n",
       "3    101001100011\n",
       "4    011011100110\n",
       "Name: Diagnostic, dtype: object"
      ]
     },
     "execution_count": 13,
     "metadata": {},
     "output_type": "execute_result"
    }
   ],
   "source": [
    "input_data = pd.read_csv(inputFile(3,1), names=[\"Diagnostic\"], squeeze=True, dtype=\"str\")\n",
    "\n",
    "input_data.head()"
   ]
  },
  {
   "cell_type": "code",
   "execution_count": 14,
   "id": "09dd83e7",
   "metadata": {},
   "outputs": [
    {
     "name": "stdout",
     "output_type": "stream",
     "text": [
      "Gamma: 2502, bin: 0b100111000110\n",
      "Epsilon: 1593, bin: 0b11000111001\n",
      "Answer: 3985686\n"
     ]
    }
   ],
   "source": [
    "counts = np.zeros(12)\n",
    "gamma = \"\"\n",
    "\n",
    "for number in input_data:\n",
    "    for i in range(len(number)):\n",
    "        if number[i] == \"1\":\n",
    "            counts[i] += 1\n",
    "            \n",
    "for count in counts:\n",
    "    if count >= input_data.size / 2:\n",
    "        gamma += \"1\"\n",
    "    else:\n",
    "        gamma += \"0\"\n",
    "\n",
    "\n",
    "i_gamma = int(gamma, 2)\n",
    "\n",
    "not_gamma = np.invert(i_gamma)\n",
    "epsilon_shift = np.left_shift(not_gamma, 20)\n",
    "i_epsilon = np.right_shift(epsilon_shift, 20)\n",
    "\n",
    "epsilon = \"0\" + bin(i_epsilon).split('b')[1]\n",
    "\n",
    "print(\"Gamma: {}, bin: {}\".format(i_gamma, bin(i_gamma)))\n",
    "print(\"Epsilon: {}, bin: {}\".format(i_epsilon, bin(i_epsilon)))\n",
    "\n",
    "print(\"Answer: {}\".format(i_gamma*i_epsilon))\n",
    "        \n",
    "    "
   ]
  },
  {
   "cell_type": "markdown",
   "id": "d3b94fb4",
   "metadata": {},
   "source": [
    "### Part 2"
   ]
  },
  {
   "cell_type": "code",
   "execution_count": 15,
   "id": "0e7f9232",
   "metadata": {},
   "outputs": [],
   "source": [
    "o2 = input_data.tolist()\n",
    "\n",
    "position = 0\n",
    "\n",
    "while len(o2) > 1:\n",
    "    count = 0\n",
    "    majority = \"1\"\n",
    "    \n",
    "    for value in o2:\n",
    "        if value[position] == \"1\":\n",
    "            count +=1\n",
    "    \n",
    "    if not(count >= len(o2) / 2):\n",
    "        majority = \"0\"\n",
    "    \n",
    "    for value in o2[:]:\n",
    "        if not(value[position] == majority):\n",
    "            o2.remove(value)\n",
    " \n",
    "    position += 1\n",
    "    \n",
    "o2 = o2[0]"
   ]
  },
  {
   "cell_type": "code",
   "execution_count": 16,
   "id": "56acf067",
   "metadata": {},
   "outputs": [],
   "source": [
    "co2 = input_data.tolist()\n",
    "\n",
    "position = 0\n",
    "\n",
    "while len(co2) > 1:\n",
    "    count = 0\n",
    "    minority = \"0\"\n",
    "    \n",
    "    for value in co2:\n",
    "        if value[position] == \"1\":\n",
    "            count +=1\n",
    "    \n",
    "    if count < len(co2) / 2:\n",
    "        minority = \"1\"\n",
    "    \n",
    "    for value in co2[:]:\n",
    "        if not(value[position] == minority):\n",
    "            co2.remove(value)\n",
    " \n",
    "    position += 1\n",
    "    \n",
    "co2 = co2[0]"
   ]
  },
  {
   "cell_type": "code",
   "execution_count": 17,
   "id": "a2c77f4d",
   "metadata": {},
   "outputs": [
    {
     "name": "stdout",
     "output_type": "stream",
     "text": [
      "Oxygen Rating: 101011011101, dec: 2781\n",
      "Co2 Rating: 001110010111, dec: 919\n",
      "Life Support Rating: 2555739\n"
     ]
    }
   ],
   "source": [
    "print(\"Oxygen Rating: {}, dec: {}\".format(o2, int(o2, 2)))\n",
    "print(\"Co2 Rating: {}, dec: {}\".format(co2, int(co2, 2)))\n",
    "print(\"Life Support Rating: {}\".format(int(o2, 2) * int(co2, 2)))"
   ]
  },
  {
   "cell_type": "markdown",
   "id": "726a83e7",
   "metadata": {},
   "source": [
    "## Day 4"
   ]
  },
  {
   "cell_type": "markdown",
   "id": "55aeaaa8",
   "metadata": {},
   "source": [
    "### Part 1"
   ]
  },
  {
   "cell_type": "code",
   "execution_count": 18,
   "id": "79e4d0a6",
   "metadata": {},
   "outputs": [],
   "source": [
    "class Board:\n",
    "    def __init__(self, board_data):\n",
    "        self.board_data = board_data\n",
    "        self.marked_data = [([False for i in range(5)]) for i in range(5)]\n",
    "        \n",
    "    def validate(self):\n",
    "        for row in self.marked_data:\n",
    "            if row.count(True) == 5:\n",
    "                return True\n",
    "            \n",
    "        for i in range(5):\n",
    "            column = [row[i] for row in self.marked_data]\n",
    "            if column.count(True) == 5:\n",
    "                return True\n",
    "            \n",
    "        diag1 = False\n",
    "        diag2 = False\n",
    "        \n",
    "        for i in range(5):\n",
    "            diag1 += self.marked_data[i][i]\n",
    "            diag2 += self.marked_data[i][abs(i - 4)]\n",
    "        if diag1 == 5 or diag2 == 5:\n",
    "            return True\n",
    "        else:\n",
    "            return False      \n",
    "                \n",
    "    def get_mark(self, x, y):\n",
    "        return self.marked_data[x][y]\n",
    "    \n",
    "    def get_number(self, x, y):\n",
    "        return self.board_data[x][y]\n",
    "    \n",
    "    def get_marked(self):\n",
    "        return self.marked_data\n",
    "    \n",
    "    def get_board(self):\n",
    "        return self.board_data\n",
    "        \n",
    "    def mark_square(self, x):\n",
    "        for i in range(5):\n",
    "            for j in range(5):\n",
    "                if self.board_data[i][j] == x:\n",
    "                    self.marked_data[i][j] = True\n",
    "        "
   ]
  },
  {
   "cell_type": "code",
   "execution_count": 19,
   "id": "a6edc99e",
   "metadata": {},
   "outputs": [],
   "source": [
    "numbers = []\n",
    "boards = []\n",
    "\n",
    "\n",
    "with open(inputFile(4,1), 'r') as f:\n",
    "    numbers = f.readline().rstrip('\\n').split(',')\n",
    "    f.readline()\n",
    "    \n",
    "    lines = f.readlines()\n",
    "    \n",
    "    board_data = []\n",
    "    \n",
    "    for line in lines:\n",
    "        if line == \"\\n\":\n",
    "            boards.append(Board(board_data))\n",
    "            board_data = []\n",
    "        else:\n",
    "            board_data.append(line.rstrip(\"\\n\").split())\n",
    "        \n",
    "    \n",
    "        \n",
    "    \n",
    "    "
   ]
  },
  {
   "cell_type": "code",
   "execution_count": 20,
   "id": "ceeb5e0d",
   "metadata": {},
   "outputs": [],
   "source": [
    "numbers_called = 0\n",
    "board_won = False\n",
    "winning_board = None\n",
    "\n",
    "while not board_won:    \n",
    "    for i in range(len(boards)):\n",
    "        boards[i].mark_square(numbers[numbers_called])\n",
    "        if boards[i].validate():\n",
    "            board_won = True\n",
    "            winning_board = i\n",
    "            break\n",
    "    numbers_called += 1"
   ]
  },
  {
   "cell_type": "code",
   "execution_count": 21,
   "id": "d4a589c5",
   "metadata": {},
   "outputs": [],
   "source": [
    "unmarked_sum = 0\n",
    "\n",
    "for i in range(5):\n",
    "    for j in range(5):\n",
    "        if not boards[winning_board].get_mark(i,j):\n",
    "            unmarked_sum += int(boards[winning_board].get_number(i,j))"
   ]
  },
  {
   "cell_type": "code",
   "execution_count": 22,
   "id": "b336fe91",
   "metadata": {},
   "outputs": [
    {
     "name": "stdout",
     "output_type": "stream",
     "text": [
      "Score: 35711\n"
     ]
    }
   ],
   "source": [
    "print(\"Score: {}\".format(unmarked_sum * int(numbers[numbers_called-1])))"
   ]
  },
  {
   "cell_type": "code",
   "execution_count": null,
   "id": "7a1a9492",
   "metadata": {},
   "outputs": [],
   "source": []
  }
 ],
 "metadata": {
  "kernelspec": {
   "display_name": "Python 3",
   "language": "python",
   "name": "python3"
  },
  "language_info": {
   "codemirror_mode": {
    "name": "ipython",
    "version": 3
   },
   "file_extension": ".py",
   "mimetype": "text/x-python",
   "name": "python",
   "nbconvert_exporter": "python",
   "pygments_lexer": "ipython3",
   "version": "3.8.8"
  }
 },
 "nbformat": 4,
 "nbformat_minor": 5
}
